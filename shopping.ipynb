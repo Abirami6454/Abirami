{
 "cells": [
  {
   "cell_type": "markdown",
   "id": "b776cdb9-ac2f-46e6-8c79-58515e816f66",
   "metadata": {},
   "source": [
    "Import Libraries and Load Dataset"
   ]
  },
  {
   "cell_type": "code",
   "execution_count": null,
   "id": "29bb3d2b-3f9d-4613-9ad6-7e5ee8bf6c69",
   "metadata": {},
   "outputs": [],
   "source": [
    "import pandas as pd\n",
    "\n",
    "# Load the dataset\n",
    "customer_data = pd.read_csv(\"D:/dataset/shopping_trends.csv\")\n",
    "print(\"Dataset loaded successfully.\")"
   ]
  },
  {
   "cell_type": "markdown",
   "id": "824c4875-6462-46d4-a7db-a63b34941cd2",
   "metadata": {},
   "source": [
    "Display First Few Rows and Dataset Structure"
   ]
  },
  {
   "cell_type": "code",
   "execution_count": null,
   "id": "014d0098-677a-4941-a7b9-77a09b85b5c8",
   "metadata": {},
   "outputs": [],
   "source": [
    "# First few rows of the dataset\n",
    "print(\"First few rows of the dataset:\")\n",
    "print(customer_data.head(), \"\\n\")\n",
    "\n",
    "# Structure of the dataset\n",
    "print(\"Structure of the dataset:\")\n",
    "print(customer_data.info(), \"\\n\")"
   ]
  },
  {
   "cell_type": "markdown",
   "id": "d3f158af-5319-43bc-af05-754aa46abf11",
   "metadata": {},
   "source": [
    "Missing Values Analysis"
   ]
  },
  {
   "cell_type": "code",
   "execution_count": null,
   "id": "66c1f113-45dd-4775-8c06-9de7c9d6059b",
   "metadata": {},
   "outputs": [],
   "source": [
    "# Total count of missing values in the dataset\n",
    "total_missing = customer_data.isna().sum().sum()\n",
    "print(f\"Total count of missing values: {total_missing}\\n\")\n",
    "\n",
    "# Count of missing values in each column\n",
    "missing_per_column = customer_data.isna().sum()\n",
    "print(\"Missing values in each column:\")\n",
    "print(missing_per_column, \"\\n\")"
   ]
  },
  {
   "cell_type": "markdown",
   "id": "285c0d5a-abf8-4080-8bd3-fc6049c13073",
   "metadata": {},
   "source": [
    "Summary of the Dataset"
   ]
  },
  {
   "cell_type": "code",
   "execution_count": null,
   "id": "504231bf-7f9b-4863-8c3c-d029fddaec28",
   "metadata": {},
   "outputs": [],
   "source": [
    "# Quick summary of the dataset\n",
    "print(\"Summary of the dataset:\")\n",
    "print(customer_data.describe(include='all'), \"\\n\")"
   ]
  },
  {
   "cell_type": "markdown",
   "id": "8804982e-9670-4ab6-a16a-72b8889ea83b",
   "metadata": {},
   "source": [
    "Analyze Most Preferred Payment Method"
   ]
  },
  {
   "cell_type": "code",
   "execution_count": null,
   "id": "8a31157b-2433-4df3-abdb-e8901b242c7e",
   "metadata": {},
   "outputs": [],
   "source": [
    "# Most preferred payment method\n",
    "payment_method_count = customer_data['Payment Method'].value_counts()\n",
    "print(\"Most preferred payment method:\")\n",
    "print(payment_method_count, \"\\n\")"
   ]
  },
  {
   "cell_type": "markdown",
   "id": "b86649df-a4e0-47b2-b04b-eefe1583b7ef",
   "metadata": {},
   "source": [
    "Analyze Most Preferred Shipping Type"
   ]
  },
  {
   "cell_type": "code",
   "execution_count": null,
   "id": "b31e8654-a74f-417f-9a6b-b3215d56105e",
   "metadata": {},
   "outputs": [],
   "source": [
    "# Most preferred shipping type\n",
    "shipping_type_count = customer_data['Shipping Type'].value_counts()\n",
    "print(\"Most preferred shipping type:\")\n",
    "print(shipping_type_count, \"\\n\")"
   ]
  },
  {
   "cell_type": "markdown",
   "id": "2c89a164-1ab1-4f4b-8a2f-0f39f9a034ac",
   "metadata": {},
   "source": [
    "Frequency of Purchases by Subscription Status"
   ]
  },
  {
   "cell_type": "code",
   "execution_count": null,
   "id": "df4528f9-192d-4dae-afe2-bc132a4b132f",
   "metadata": {},
   "outputs": [],
   "source": [
    "# Frequency of purchases by subscription status\n",
    "subscription_status_freq = customer_data.groupby('Subscription Status')['Frequency of Purchases'].describe()\n",
    "print(\"Frequency of Purchases by Subscription Status:\")\n",
    "print(subscription_status_freq, \"\\n\") "
   ]
  },
  {
   "cell_type": "markdown",
   "id": "ecaea45f-3a90-4334-b208-f692b17b1272",
   "metadata": {},
   "source": [
    "Purchase Behavior Across Seasons"
   ]
  },
  {
   "cell_type": "code",
   "execution_count": null,
   "id": "be86dfc4-4f76-4ef5-817a-4eee968c56d4",
   "metadata": {},
   "outputs": [],
   "source": [
    "# Purchase behavior across seasons\n",
    "season_purchase_behavior = customer_data.groupby('Season')['Purchase Amount (USD)'].describe()\n",
    "print(\"Purchase behavior across seasons:\")\n",
    "print(season_purchase_behavior, \"\\n\")"
   ]
  },
  {
   "cell_type": "markdown",
   "id": "50ff47b0-5b37-4087-b856-eec8a534a697",
   "metadata": {},
   "source": [
    "Top Colors by Season"
   ]
  },
  {
   "cell_type": "code",
   "execution_count": null,
   "id": "099970bc-bff2-4277-96a9-05bf7ebf0d38",
   "metadata": {},
   "outputs": [],
   "source": [
    "# Color popularity by season\n",
    "color_season_count = customer_data.groupby(['Season', 'Color']).size().reset_index(name='Count')\n",
    "top_colors = color_season_count.sort_values(['Season', 'Count'], ascending=[True, False]).groupby('Season').head(10)\n",
    "print(\"Top 10 colors by season:\")\n",
    "print(top_colors, \"\\n\")"
   ]
  },
  {
   "cell_type": "markdown",
   "id": "0d73b2ca-dd7c-485a-ac66-4c9fd1879b51",
   "metadata": {},
   "source": [
    "Size Popularity by Season"
   ]
  },
  {
   "cell_type": "code",
   "execution_count": null,
   "id": "385ee909-3dc4-4493-98cb-e645a405326a",
   "metadata": {},
   "outputs": [],
   "source": [
    "# Size popularity by season\n",
    "size_season_count = customer_data.groupby(['Season', 'Size']).size().reset_index(name='Count')\n",
    "print(\"Size popularity by season:\")\n",
    "print(size_season_count, \"\\n\")"
   ]
  },
  {
   "cell_type": "markdown",
   "id": "ad53df62-a6be-4a30-a1cd-7fa501e62015",
   "metadata": {},
   "source": [
    "Frequency of Purchases and Promo Code Usage"
   ]
  },
  {
   "cell_type": "code",
   "execution_count": null,
   "id": "2049d872-cad2-4c40-92f0-ed4e714f0320",
   "metadata": {},
   "outputs": [],
   "source": [
    "# Frequency of previous purchases and promo code usage\n",
    "promo_code_usage = customer_data.groupby('Promo Code Used')['Frequency of Purchases'].describe()\n",
    "print(\"Frequency of purchases by promo code usage:\")\n",
    "print(promo_code_usage, \"\\n\")"
   ]
  },
  {
   "cell_type": "markdown",
   "id": "ce956f32-87ee-4d2d-aa17-3af535f8da59",
   "metadata": {},
   "source": [
    " Purchase Amount with and Without Promo Codes"
   ]
  },
  {
   "cell_type": "code",
   "execution_count": null,
   "id": "40a83b12-b88a-4c43-ac7e-68b60d43015e",
   "metadata": {},
   "outputs": [],
   "source": [
    "# Purchase amount with and without promo codes\n",
    "promo_code_purchase_amount = customer_data.groupby('Promo Code Used')['Purchase Amount (USD)'].describe()\n",
    "print(\"Purchase amount with and without promo codes:\")\n",
    "print(promo_code_purchase_amount, \"\\n\")"
   ]
  },
  {
   "cell_type": "markdown",
   "id": "0caa2ddc-8b2c-4ac9-a50f-482f17b2d1d0",
   "metadata": {},
   "source": [
    "Correlation Between Review Rating and Purchase Amount"
   ]
  },
  {
   "cell_type": "code",
   "execution_count": null,
   "id": "7c05d304-3334-45a0-bcd1-10f16cd2e941",
   "metadata": {},
   "outputs": [],
   "source": [
    "# Review ratings vs purchase amount correlation\n",
    "correlation_review_purchase = customer_data['Review Rating'].corr(customer_data['Purchase Amount (USD)'])\n",
    "print(f\"Correlation between Review Rating and Purchase Amount: {correlation_review_purchase:.2f}\\n\")"
   ]
  },
  {
   "cell_type": "markdown",
   "id": "51a33cc1-08dc-4d79-a1ab-a87ba94d091c",
   "metadata": {},
   "source": [
    "Review Ratings by Product Category"
   ]
  },
  {
   "cell_type": "code",
   "execution_count": null,
   "id": "e60e2740-9616-461e-89df-81ea9010314e",
   "metadata": {},
   "outputs": [],
   "source": [
    "# Review ratings by product category\n",
    "category_review_ratings = customer_data.groupby('Category')['Review Rating'].describe()\n",
    "print(\"Review ratings by product category:\")\n",
    "print(category_review_ratings, \"\\n\")"
   ]
  },
  {
   "cell_type": "markdown",
   "id": "c92691f6-5fe1-482b-871f-8e971045af9d",
   "metadata": {},
   "source": [
    " Review Ratings by Shipping Type"
   ]
  },
  {
   "cell_type": "code",
   "execution_count": null,
   "id": "6b3139c0-f916-4d9b-acb9-a382321d5695",
   "metadata": {},
   "outputs": [],
   "source": [
    "# Review ratings by shipping type\n",
    "shipping_review_ratings = customer_data.groupby('Shipping Type')['Review Rating'].describe()\n",
    "print(\"Review ratings by shipping type:\")\n",
    "print(shipping_review_ratings, \"\\n\")"
   ]
  }
 ],
 "metadata": {
  "kernelspec": {
   "display_name": "Python [conda env:base] *",
   "language": "python",
   "name": "conda-base-py"
  },
  "language_info": {
   "codemirror_mode": {
    "name": "ipython",
    "version": 3
   },
   "file_extension": ".py",
   "mimetype": "text/x-python",
   "name": "python",
   "nbconvert_exporter": "python",
   "pygments_lexer": "ipython3",
   "version": "3.12.7"
  }
 },
 "nbformat": 4,
 "nbformat_minor": 5
}
