{
 "cells": [
  {
   "cell_type": "markdown",
   "id": "b9ff6ef5-7a6d-448c-b74a-2d992cd00901",
   "metadata": {},
   "source": [
    "Import Libraries"
   ]
  },
  {
   "cell_type": "code",
   "execution_count": null,
   "id": "bd3486ea-9bf8-4fa7-ac78-d2d3b28574e8",
   "metadata": {},
   "outputs": [],
   "source": [
    "import pandas as pd\n",
    "import numpy as np\n",
    "import plotly.express as px\n",
    "from scipy import stats"
   ]
  },
  {
   "cell_type": "markdown",
   "id": "c4960f45-3f5d-4718-9fed-dc82dbc13541",
   "metadata": {},
   "source": [
    "Load the Dataset"
   ]
  },
  {
   "cell_type": "code",
   "execution_count": null,
   "id": "64e20d75-3063-465e-8134-5ad69a5917d2",
   "metadata": {},
   "outputs": [],
   "source": [
    "# Load the dataset\n",
    "dog_data = pd.read_csv(\"D:/dataset/Dog Breads Around The World.csv\") \n",
    "\n",
    "# Structure of the dataset\n",
    "print(\"Structure of the dataset:\")\n",
    "print(dog_data.info(), \"\\n\")\n",
    "\n",
    "# Display the first few rows of the dataset\n",
    "dog_data.head()"
   ]
  },
  {
   "cell_type": "markdown",
   "id": "6a0a07d9-b2c6-4925-a1af-63414249c008",
   "metadata": {},
   "source": [
    "Clean and Transform the Dataset"
   ]
  },
  {
   "cell_type": "code",
   "execution_count": null,
   "id": "f7cc5a14-4f21-4828-88bc-85a724378aa0",
   "metadata": {},
   "outputs": [],
   "source": [
    "# Clean and transform the dataset\n",
    "dog_data_clean = dog_data.copy()\n",
    "\n",
    "# Convert relevant columns to appropriate data types\n",
    "dog_data_clean['Name'] = dog_data_clean['Name'].astype('category')\n",
    "dog_data_clean['Origin'] = dog_data_clean['Origin'].astype('category')\n",
    "dog_data_clean['Type'] = dog_data_clean['Type'].astype('category')\n",
    "dog_data_clean['Unique Feature'] = dog_data_clean['Unique Feature'].astype('category')\n",
    "dog_data_clean['Size'] = pd.Categorical(dog_data_clean['Size'], categories=['Small', 'Medium', 'Large'], ordered=True)\n",
    "dog_data_clean['Grooming Needs'] = pd.Categorical(dog_data_clean['Grooming Needs'], categories=['Low', 'Moderate', 'High', 'Very High'], ordered=True)\n",
    "dog_data_clean['Good with Children'] = dog_data_clean['Good with Children'].astype('category')\n",
    "dog_data_clean['Health Issues Risk'] = pd.Categorical(dog_data_clean['Health Issues Risk'], categories=['Low', 'Moderate', 'High'], ordered=True)\n",
    "dog_data_clean['Exercise Requirements (hrs/day)'] = pd.to_numeric(dog_data_clean['Exercise Requirements (hrs/day)'], errors='coerce')\n",
    "dog_data_clean['Average Weight (kg)'] = pd.to_numeric(dog_data_clean['Average Weight (kg)'], errors='coerce')\n",
    "dog_data_clean['Training Difficulty (1-10)'] = pd.to_numeric(dog_data_clean['Training Difficulty (1-10)'], errors='coerce')\n",
    "dog_data_clean['Friendly Rating (1-10)'] = pd.to_numeric(dog_data_clean['Friendly Rating (1-10)'], errors='coerce')\n",
    "dog_data_clean['Intelligence Rating (1-10)'] = pd.to_numeric(dog_data_clean['Intelligence Rating (1-10)'], errors='coerce')\n",
    "dog_data_clean['Shedding Level'] = pd.Categorical(dog_data_clean['Shedding Level'], categories=['Low', 'Moderate', 'High', 'Very High'], ordered=True)\n",
    "dog_data_clean['Life Span'] = pd.to_numeric(dog_data_clean['Life Span'], errors='coerce')\n",
    "\n",
    "# Drop rows with missing values\n",
    "dog_data_clean.dropna(inplace=True)\n",
    "\n",
    "# Display the cleaned data\n",
    "dog_data_clean.head()"
   ]
  },
  {
   "cell_type": "markdown",
   "id": "33288a0e-8da5-413f-8f62-f5a722e52f82",
   "metadata": {},
   "source": [
    "Summary Statistics for Numerical Columns"
   ]
  },
  {
   "cell_type": "code",
   "execution_count": null,
   "id": "29571cbf-6ecb-435d-be88-458883aaa747",
   "metadata": {},
   "outputs": [],
   "source": [
    "# Summary statistics for numerical columns\n",
    "dog_data_clean.describe()"
   ]
  },
  {
   "cell_type": "markdown",
   "id": "baea6338-1dca-4df2-8f31-130a2da25454",
   "metadata": {},
   "source": [
    "Frequency of Dog Breeds"
   ]
  },
  {
   "cell_type": "code",
   "execution_count": null,
   "id": "7f8b1949-855a-43b0-bb2d-24b9d34499c0",
   "metadata": {},
   "outputs": [],
   "source": [
    "# Frequency of dog breeds (or names)\n",
    "breed_count = dog_data_clean['Name'].value_counts().reset_index(name='Count').rename(columns={'index': 'Breed'})\n",
    "breed_count = breed_count.sort_values(by='Count', ascending=False)\n",
    "\n",
    "# Display top 10 most common breeds\n",
    "breed_count.head(10)"
   ]
  },
  {
   "cell_type": "markdown",
   "id": "52d80f79-8aaa-4b4b-a098-e6ae0660512f",
   "metadata": {},
   "source": [
    "Bar Plot of Dog Breeds by Type"
   ]
  },
  {
   "cell_type": "code",
   "execution_count": null,
   "id": "ec5f58ac-38bc-4a3e-8d9d-ef41dc86a626",
   "metadata": {},
   "outputs": [],
   "source": [
    "# Bar plot of dog breeds by Type using Plotly\n",
    "fig = px.bar(dog_data_clean, x='Type', title='Distribution of Dog Breeds by Type', labels={'Type': 'Dog Type', 'count': 'Count'})\n",
    "fig.update_layout(barmode='stack', xaxis_tickangle=-45)\n",
    "fig.show()"
   ]
  },
  {
   "cell_type": "markdown",
   "id": "73b66c44-c968-4346-931f-aa8f3fb260da",
   "metadata": {},
   "source": [
    "Boxplot of Weight by Dog Size"
   ]
  },
  {
   "cell_type": "code",
   "execution_count": null,
   "id": "99936f34-4059-436d-9448-4f0cc300eb7f",
   "metadata": {},
   "outputs": [],
   "source": [
    "# Boxplot of weight by dog size using Plotly\n",
    "fig = px.box(dog_data_clean, x='Size', y='Average Weight (kg)', title=\"Boxplot of Dog Weight by Size\", labels={'Size': 'Dog Size', 'Average Weight (kg)': 'Weight (kg)'})\n",
    "fig.show()"
   ]
  },
  {
   "cell_type": "markdown",
   "id": "2998a7a7-0e4d-4114-9f7f-008159728861",
   "metadata": {},
   "source": [
    "Scatter Plot of Life Span vs Average Weight"
   ]
  },
  {
   "cell_type": "code",
   "execution_count": null,
   "id": "af09659b-b99a-48bf-a9f4-6f89e8926415",
   "metadata": {},
   "outputs": [],
   "source": [
    "# Scatter plot of life span vs average weight using Plotly\n",
    "fig = px.scatter(dog_data_clean, x='Average Weight (kg)', y='Life Span', color='Size', title=\"Life Span vs Average Weight\", labels={'Average Weight (kg)': 'Average Weight (kg)', 'Life Span': 'Life Span (years)'})\n",
    "fig.show()"
   ]
  },
  {
   "cell_type": "markdown",
   "id": "57e7e8f6-d7f9-40c3-84e9-70981352241c",
   "metadata": {},
   "source": [
    "Histogram of Exercise Requirements (hours/day)"
   ]
  },
  {
   "cell_type": "code",
   "execution_count": null,
   "id": "c7e05fea-0387-490d-a115-247790d35aeb",
   "metadata": {},
   "outputs": [],
   "source": [
    "# Histogram of exercise requirements (hours/day) using Plotly\n",
    "fig = px.histogram(dog_data_clean, x='Exercise Requirements (hrs/day)', nbins=20, title=\"Distribution of Exercise Requirements\", labels={'Exercise Requirements (hrs/day)': 'Exercise Requirements (hrs/day)'})\n",
    "fig.show()"
   ]
  },
  {
   "cell_type": "markdown",
   "id": "d6c21d76-8d94-41b7-9e89-af639fbb0e6a",
   "metadata": {},
   "source": [
    " Bar Plot of Grooming Needs"
   ]
  },
  {
   "cell_type": "code",
   "execution_count": null,
   "id": "9caf03ca-38e0-4226-b796-1d095919230c",
   "metadata": {},
   "outputs": [],
   "source": [
    "# Bar plot of grooming needs using Plotly\n",
    "fig = px.bar(dog_data_clean, x='Grooming Needs', title=\"Distribution of Grooming Needs\", labels={'Grooming Needs': 'Grooming Needs'})\n",
    "fig.show()"
   ]
  },
  {
   "cell_type": "markdown",
   "id": "4a4b52c3-c4cd-48ad-bad7-d85100ca6a45",
   "metadata": {},
   "source": [
    "Correlation Matrix for Numerical Variables"
   ]
  },
  {
   "cell_type": "code",
   "execution_count": null,
   "id": "38798b6f-1e16-42f5-b314-3015d6178919",
   "metadata": {},
   "outputs": [],
   "source": [
    "# Correlation matrix for relevant numerical variables\n",
    "cor_data = dog_data_clean[['Life Span', 'Friendly Rating (1-10)', 'Training Difficulty (1-10)', 'Average Weight (kg)']]\n",
    "cor_matrix = cor_data.corr()\n",
    "\n",
    "# Display the correlation matrix\n",
    "print(cor_matrix)"
   ]
  },
  {
   "cell_type": "markdown",
   "id": "77b73c4b-2448-401a-a152-5224f5280534",
   "metadata": {},
   "source": [
    "ANOVA for Weight Across Grooming Needs"
   ]
  },
  {
   "cell_type": "code",
   "execution_count": null,
   "id": "99109a33-d521-4f4c-b053-3e7dc61559ff",
   "metadata": {},
   "outputs": [],
   "source": [
    "# ANOVA for weight across grooming needs\n",
    "anova_result = stats.f_oneway(\n",
    "    dog_data_clean[dog_data_clean['Grooming Needs'] == 'Low']['Average Weight (kg)'],\n",
    "    dog_data_clean[dog_data_clean['Grooming Needs'] == 'Moderate']['Average Weight (kg)'],\n",
    "    dog_data_clean[dog_data_clean['Grooming Needs'] == 'High']['Average Weight (kg)'],\n",
    "    dog_data_clean[dog_data_clean['Grooming Needs'] == 'Very High']['Average Weight (kg)']\n",
    ")\n",
    "\n",
    "# Display the ANOVA result\n",
    "print(\"ANOVA result for weight across grooming needs:\")\n",
    "print(f\"F-statistic: {anova_result.statistic}\")\n",
    "print(f\"P-value: {anova_result.pvalue}\")"
   ]
  },
  {
   "cell_type": "markdown",
   "id": "f4713cd1-1552-469c-b149-c41127a09a8b",
   "metadata": {},
   "source": [
    "Visualize the ANOVA Result"
   ]
  },
  {
   "cell_type": "code",
   "execution_count": null,
   "id": "74d11cd3-4609-445c-9e5e-49529470033a",
   "metadata": {},
   "outputs": [],
   "source": [
    "# Visualize the ANOVA result using Plotly\n",
    "fig = px.box(dog_data_clean, x='Grooming Needs', y='Average Weight (kg)', title=\"Weight Across Grooming Needs\", labels={'Grooming Needs': 'Grooming Needs', 'Average Weight (kg)': 'Weight (kg)'})\n",
    "fig.show()"
   ]
  },
  {
   "cell_type": "markdown",
   "id": "bf1f7e74-39d5-4071-a95a-baba17ac3a53",
   "metadata": {},
   "source": [
    "Summary of Characteristics by Dog Size"
   ]
  },
  {
   "cell_type": "code",
   "execution_count": null,
   "id": "0d169958-5728-449a-821b-d794be5fa047",
   "metadata": {},
   "outputs": [],
   "source": [
    "# Summary of characteristics by dog size\n",
    "size_comparison = dog_data_clean.groupby('Size').agg(\n",
    "    Mean_Weight=('Average Weight (kg)', 'mean'),\n",
    "    Median_Weight=('Average Weight (kg)', 'median'),\n",
    "    Mean_LifeSpan=('Life Span', 'mean'),\n",
    "    Median_LifeSpan=('Life Span', 'median')\n",
    ").reset_index()\n",
    "\n",
    "# View the summary\n",
    "print(size_comparison)"
   ]
  }
 ],
 "metadata": {
  "kernelspec": {
   "display_name": "Python [conda env:base] *",
   "language": "python",
   "name": "conda-base-py"
  },
  "language_info": {
   "codemirror_mode": {
    "name": "ipython",
    "version": 3
   },
   "file_extension": ".py",
   "mimetype": "text/x-python",
   "name": "python",
   "nbconvert_exporter": "python",
   "pygments_lexer": "ipython3",
   "version": "3.12.7"
  }
 },
 "nbformat": 4,
 "nbformat_minor": 5
}
